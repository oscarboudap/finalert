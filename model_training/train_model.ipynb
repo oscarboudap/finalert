{
 "cells": [
  {
   "cell_type": "code",
   "execution_count": 1,
   "id": "97142333",
   "metadata": {},
   "outputs": [
    {
     "name": "stdout",
     "output_type": "stream",
     "text": [
      "Requirement already satisfied: numpy in c:\\users\\oscar\\desktop\\finalert\\.venv\\lib\\site-packages (2.2.5)\n",
      "Requirement already satisfied: pandas in c:\\users\\oscar\\desktop\\finalert\\.venv\\lib\\site-packages (2.2.3)\n",
      "Requirement already satisfied: scikit-learn in c:\\users\\oscar\\desktop\\finalert\\.venv\\lib\\site-packages (1.6.1)\n",
      "Requirement already satisfied: joblib in c:\\users\\oscar\\desktop\\finalert\\.venv\\lib\\site-packages (1.4.2)\n",
      "Collecting fastapi\n",
      "  Downloading fastapi-0.115.12-py3-none-any.whl.metadata (27 kB)\n",
      "Collecting uvicorn\n",
      "  Downloading uvicorn-0.34.2-py3-none-any.whl.metadata (6.5 kB)\n",
      "Requirement already satisfied: python-dateutil>=2.8.2 in c:\\users\\oscar\\desktop\\finalert\\.venv\\lib\\site-packages (from pandas) (2.9.0.post0)\n",
      "Requirement already satisfied: pytz>=2020.1 in c:\\users\\oscar\\desktop\\finalert\\.venv\\lib\\site-packages (from pandas) (2025.2)\n",
      "Requirement already satisfied: tzdata>=2022.7 in c:\\users\\oscar\\desktop\\finalert\\.venv\\lib\\site-packages (from pandas) (2025.2)\n",
      "Requirement already satisfied: scipy>=1.6.0 in c:\\users\\oscar\\desktop\\finalert\\.venv\\lib\\site-packages (from scikit-learn) (1.15.2)\n",
      "Requirement already satisfied: threadpoolctl>=3.1.0 in c:\\users\\oscar\\desktop\\finalert\\.venv\\lib\\site-packages (from scikit-learn) (3.6.0)\n",
      "Collecting starlette<0.47.0,>=0.40.0 (from fastapi)\n",
      "  Downloading starlette-0.46.2-py3-none-any.whl.metadata (6.2 kB)\n",
      "Collecting pydantic!=1.8,!=1.8.1,!=2.0.0,!=2.0.1,!=2.1.0,<3.0.0,>=1.7.4 (from fastapi)\n",
      "  Downloading pydantic-2.11.3-py3-none-any.whl.metadata (65 kB)\n",
      "Requirement already satisfied: typing-extensions>=4.8.0 in c:\\users\\oscar\\desktop\\finalert\\.venv\\lib\\site-packages (from fastapi) (4.13.2)\n",
      "Collecting click>=7.0 (from uvicorn)\n",
      "  Using cached click-8.1.8-py3-none-any.whl.metadata (2.3 kB)\n",
      "Collecting h11>=0.8 (from uvicorn)\n",
      "  Downloading h11-0.16.0-py3-none-any.whl.metadata (8.3 kB)\n",
      "Requirement already satisfied: colorama in c:\\users\\oscar\\desktop\\finalert\\.venv\\lib\\site-packages (from click>=7.0->uvicorn) (0.4.6)\n",
      "Collecting annotated-types>=0.6.0 (from pydantic!=1.8,!=1.8.1,!=2.0.0,!=2.0.1,!=2.1.0,<3.0.0,>=1.7.4->fastapi)\n",
      "  Using cached annotated_types-0.7.0-py3-none-any.whl.metadata (15 kB)\n",
      "Collecting pydantic-core==2.33.1 (from pydantic!=1.8,!=1.8.1,!=2.0.0,!=2.0.1,!=2.1.0,<3.0.0,>=1.7.4->fastapi)\n",
      "  Downloading pydantic_core-2.33.1-cp311-cp311-win_amd64.whl.metadata (6.9 kB)\n",
      "Collecting typing-inspection>=0.4.0 (from pydantic!=1.8,!=1.8.1,!=2.0.0,!=2.0.1,!=2.1.0,<3.0.0,>=1.7.4->fastapi)\n",
      "  Downloading typing_inspection-0.4.0-py3-none-any.whl.metadata (2.6 kB)\n",
      "Requirement already satisfied: six>=1.5 in c:\\users\\oscar\\desktop\\finalert\\.venv\\lib\\site-packages (from python-dateutil>=2.8.2->pandas) (1.17.0)\n",
      "Collecting anyio<5,>=3.6.2 (from starlette<0.47.0,>=0.40.0->fastapi)\n",
      "  Downloading anyio-4.9.0-py3-none-any.whl.metadata (4.7 kB)\n",
      "Collecting idna>=2.8 (from anyio<5,>=3.6.2->starlette<0.47.0,>=0.40.0->fastapi)\n",
      "  Using cached idna-3.10-py3-none-any.whl.metadata (10 kB)\n",
      "Collecting sniffio>=1.1 (from anyio<5,>=3.6.2->starlette<0.47.0,>=0.40.0->fastapi)\n",
      "  Using cached sniffio-1.3.1-py3-none-any.whl.metadata (3.9 kB)\n",
      "Downloading fastapi-0.115.12-py3-none-any.whl (95 kB)\n",
      "Downloading uvicorn-0.34.2-py3-none-any.whl (62 kB)\n",
      "Using cached click-8.1.8-py3-none-any.whl (98 kB)\n",
      "Downloading h11-0.16.0-py3-none-any.whl (37 kB)\n",
      "Downloading pydantic-2.11.3-py3-none-any.whl (443 kB)\n",
      "Downloading pydantic_core-2.33.1-cp311-cp311-win_amd64.whl (2.0 MB)\n",
      "   ---------------------------------------- 0.0/2.0 MB ? eta -:--:--\n",
      "   ---------- ----------------------------- 0.5/2.0 MB 3.4 MB/s eta 0:00:01\n",
      "   -------------------------- ------------- 1.3/2.0 MB 3.5 MB/s eta 0:00:01\n",
      "   ---------------------------------------- 2.0/2.0 MB 3.1 MB/s eta 0:00:00\n",
      "Downloading starlette-0.46.2-py3-none-any.whl (72 kB)\n",
      "Using cached annotated_types-0.7.0-py3-none-any.whl (13 kB)\n",
      "Downloading anyio-4.9.0-py3-none-any.whl (100 kB)\n",
      "Downloading typing_inspection-0.4.0-py3-none-any.whl (14 kB)\n",
      "Using cached idna-3.10-py3-none-any.whl (70 kB)\n",
      "Using cached sniffio-1.3.1-py3-none-any.whl (10 kB)\n",
      "Installing collected packages: typing-inspection, sniffio, pydantic-core, idna, h11, click, annotated-types, uvicorn, pydantic, anyio, starlette, fastapi\n",
      "Successfully installed annotated-types-0.7.0 anyio-4.9.0 click-8.1.8 fastapi-0.115.12 h11-0.16.0 idna-3.10 pydantic-2.11.3 pydantic-core-2.33.1 sniffio-1.3.1 starlette-0.46.2 typing-inspection-0.4.0 uvicorn-0.34.2\n"
     ]
    }
   ],
   "source": [
    "!pip install numpy pandas scikit-learn joblib fastapi uvicorn"
   ]
  },
  {
   "cell_type": "code",
   "execution_count": null,
   "id": "ddb0334c",
   "metadata": {},
   "outputs": [],
   "source": [
    "import numpy as np\n",
    "import pandas as pd\n",
    "from sklearn.ensemble import GradientBoostingRegressor\n",
    "from sklearn.model_selection import train_test_split\n",
    "from sklearn.metrics import mean_absolute_error\n",
    "import joblib\n",
    "import os"
   ]
  },
  {
   "cell_type": "code",
   "execution_count": null,
   "id": "c79c5d45",
   "metadata": {},
   "outputs": [],
   "source": [
    "import pandas as pd\n",
    "import numpy as np\n",
    "import time\n",
    "\n",
    "# Generar 1000 puntos de datos (1000 minutos ~ casi 17 horas)\n",
    "num_points = 1000\n",
    "timestamps = np.arange(int(time.time()) - num_points * 60, int(time.time()), 60)\n",
    "prices = 27000 + np.cumsum(np.random.randn(num_points))  # Precio base + ruido aleatorio\n",
    "\n",
    "# Crear el DataFrame\n",
    "data = pd.DataFrame({\n",
    "    'timestamp': timestamps,\n",
    "    'price': prices\n",
    "})\n",
    "\n",
    "# Guardarlo como CSV\n",
    "data.to_csv('price_history_sample.csv', index=False)\n",
    "\n",
    "print(\"✅ Archivo 'price_history_sample.csv' generado exitosamente.\")\n"
   ]
  },
  {
   "cell_type": "code",
   "execution_count": null,
   "id": "f932ab4b",
   "metadata": {},
   "outputs": [],
   "source": [
    "# 1. Cargar los datos históricos\n",
    "data = pd.read_csv('price_history_sample.csv')  # Archivo de entrenamiento"
   ]
  },
  {
   "cell_type": "code",
   "execution_count": null,
   "id": "0854807d",
   "metadata": {},
   "outputs": [],
   "source": [
    "# 2. Generar features\n",
    "# (Por ejemplo: diferencias de precios consecutivas)\n",
    "data['delta_1'] = data['price'].diff(1)\n",
    "data['delta_5'] = data['price'].diff(5)\n",
    "data['delta_10'] = data['price'].diff(10)\n",
    "data['delta_30'] = data['price'].diff(30)"
   ]
  },
  {
   "cell_type": "code",
   "execution_count": null,
   "id": "093e1aaf",
   "metadata": {},
   "outputs": [],
   "source": [
    "# 3. Target: % de variación en la próxima hora\n",
    "data['future_change'] = data['price'].shift(-60)  # 60 minutos adelante\n",
    "data['future_pct_change'] = ((data['future_change'] - data['price']) / data['price']) * 100"
   ]
  },
  {
   "cell_type": "code",
   "execution_count": null,
   "id": "7e9eb9d0",
   "metadata": {},
   "outputs": [],
   "source": [
    "# 4. Limpiar NaNs\n",
    "data = data.dropna()"
   ]
  },
  {
   "cell_type": "code",
   "execution_count": null,
   "id": "0f9a6ced",
   "metadata": {},
   "outputs": [],
   "source": [
    "# 5. Separar variables\n",
    "X = data[['delta_1', 'delta_5', 'delta_10', 'delta_30']]\n",
    "y = data['future_pct_change']"
   ]
  },
  {
   "cell_type": "code",
   "execution_count": null,
   "id": "e6cba5a3",
   "metadata": {},
   "outputs": [],
   "source": [
    "# 6. Split en entrenamiento y validación\n",
    "X_train, X_val, y_train, y_val = train_test_split(X, y, test_size=0.2, random_state=42)"
   ]
  },
  {
   "cell_type": "code",
   "execution_count": null,
   "id": "1ca5e738",
   "metadata": {},
   "outputs": [],
   "source": [
    "# 7. Entrenar el modelo\n",
    "model = GradientBoostingRegressor()\n",
    "model.fit(X_train, y_train)"
   ]
  },
  {
   "cell_type": "code",
   "execution_count": null,
   "id": "dc3a3d2c",
   "metadata": {},
   "outputs": [],
   "source": [
    "# 8. Validar\n",
    "y_pred = model.predict(X_val)\n",
    "print(\"MAE:\", mean_absolute_error(y_val, y_pred))"
   ]
  },
  {
   "cell_type": "code",
   "execution_count": null,
   "id": "0ccd3cad",
   "metadata": {},
   "outputs": [],
   "source": [
    "os.makedirs('model_training', exist_ok=True)\n",
    "\n",
    "joblib.dump(model, 'model_training/model_gb.pkl')"
   ]
  },
  {
   "cell_type": "code",
   "execution_count": null,
   "id": "cd5d653f",
   "metadata": {},
   "outputs": [],
   "source": [
    "!pip install skl2onnx onnx"
   ]
  },
  {
   "cell_type": "code",
   "execution_count": null,
   "id": "f5ede5d1",
   "metadata": {},
   "outputs": [],
   "source": [
    "import joblib\n",
    "import skl2onnx\n",
    "from skl2onnx import convert_sklearn\n",
    "from skl2onnx.common.data_types import FloatTensorType\n",
    "import onnx"
   ]
  },
  {
   "cell_type": "code",
   "execution_count": null,
   "id": "4c9c77bb",
   "metadata": {},
   "outputs": [],
   "source": [
    "# 1. Cargar modelo entrenado\n",
    "model = joblib.load('model_training/model_gb.pkl')"
   ]
  },
  {
   "cell_type": "code",
   "execution_count": null,
   "id": "6b2d52d9",
   "metadata": {},
   "outputs": [],
   "source": [
    "# 2. Definir la forma de entrada\n",
    "# Suponemos que la entrada tiene 4 características: delta_1, delta_5, delta_10, delta_30\n",
    "initial_type = [('float_input', FloatTensorType([None, 4]))]"
   ]
  },
  {
   "cell_type": "code",
   "execution_count": null,
   "id": "ddc4594c",
   "metadata": {},
   "outputs": [],
   "source": [
    "# 3. Convertir a ONNX\n",
    "onnx_model = convert_sklearn(model, initial_types=initial_type)"
   ]
  },
  {
   "cell_type": "code",
   "execution_count": null,
   "id": "fc3ca8d1",
   "metadata": {},
   "outputs": [],
   "source": [
    "# 4. Guardar el modelo ONNX\n",
    "with open('model_training/model_gb.onnx', 'wb') as f:\n",
    "    f.write(onnx_model.SerializeToString())\n",
    "\n",
    "print(\"✅ Conversión completada: model_gb.onnx generado.\")"
   ]
  }
 ],
 "metadata": {
  "kernelspec": {
   "display_name": ".venv",
   "language": "python",
   "name": "python3"
  },
  "language_info": {
   "codemirror_mode": {
    "name": "ipython",
    "version": 3
   },
   "file_extension": ".py",
   "mimetype": "text/x-python",
   "name": "python",
   "nbconvert_exporter": "python",
   "pygments_lexer": "ipython3",
   "version": "3.11.0"
  }
 },
 "nbformat": 4,
 "nbformat_minor": 5
}
